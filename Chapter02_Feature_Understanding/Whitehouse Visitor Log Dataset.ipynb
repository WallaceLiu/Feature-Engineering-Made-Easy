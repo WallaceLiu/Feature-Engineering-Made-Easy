{
 "cells": [
  {
   "cell_type": "markdown",
   "metadata": {},
   "source": [
    "# Whitehouse Visitor Log Dataset"
   ]
  },
  {
   "cell_type": "code",
   "execution_count": null,
   "metadata": {},
   "outputs": [],
   "source": [
    "# import packages we need for exploratory data analysis (EDA)\n",
    "import pandas as pd  # to store tabular data\n",
    "import numpy as np  # to do some math\n",
    "import matplotlib.pyplot as plt  # a popular data visualization tool\n",
    "import seaborn as sns  # another popular data visualization tool\n",
    "%matplotlib inline  \n",
    "plt.style.use('fivethirtyeight')  # a popular data visualization theme"
   ]
  },
  {
   "cell_type": "code",
   "execution_count": 100,
   "metadata": {
    "collapsed": true
   },
   "outputs": [],
   "source": [
    "# load in the data set\n",
    "whitehouse = pd.read_csv('/Users/divyasusarla/Downloads/whitehouse_waves-2016_12.csv')"
   ]
  },
  {
   "cell_type": "code",
   "execution_count": 101,
   "metadata": {},
   "outputs": [
    {
     "name": "stdout",
     "output_type": "stream",
     "text": [
      "<class 'pandas.core.frame.DataFrame'>\n",
      "RangeIndex: 970504 entries, 0 to 970503\n",
      "Data columns (total 28 columns):\n",
      "NAMELAST             970494 non-null object\n",
      "NAMEFIRST            970497 non-null object\n",
      "NAMEMID              778796 non-null object\n",
      "UIN                  966303 non-null object\n",
      "BDGNBR               274058 non-null float64\n",
      "ACCESS_TYPE          966273 non-null object\n",
      "TOA                  274052 non-null object\n",
      "POA                  274043 non-null object\n",
      "TOD                  162480 non-null object\n",
      "POD                  94507 non-null object\n",
      "APPT_MADE_DATE       966282 non-null object\n",
      "APPT_START_DATE      970504 non-null object\n",
      "APPT_END_DATE        970504 non-null object\n",
      "APPT_CANCEL_DATE     18868 non-null object\n",
      "Total_People         966273 non-null float64\n",
      "LAST_UPDATEDBY       965309 non-null object\n",
      "POST                 966273 non-null object\n",
      "LASTENTRYDATE        966273 non-null object\n",
      "TERMINAL_SUFFIX      965309 non-null object\n",
      "visitee_namelast     911249 non-null object\n",
      "visitee_namefirst    963723 non-null object\n",
      "MEETING_LOC          967873 non-null object\n",
      "MEETING_ROOM         966272 non-null object\n",
      "CALLER_NAME_LAST     966273 non-null object\n",
      "CALLER_NAME_FIRST    966273 non-null object\n",
      "CALLER_ROOM          0 non-null float64\n",
      "DESCRIPTION          609587 non-null object\n",
      "Release_Date         970504 non-null object\n",
      "dtypes: float64(3), object(25)\n",
      "memory usage: 207.3+ MB\n"
     ]
    }
   ],
   "source": [
    "whitehouse.info()"
   ]
  },
  {
   "cell_type": "code",
   "execution_count": 102,
   "metadata": {},
   "outputs": [
    {
     "data": {
      "text/plain": [
       "NAMELAST                 10\n",
       "NAMEFIRST                 7\n",
       "NAMEMID              191708\n",
       "UIN                    4201\n",
       "BDGNBR               696446\n",
       "ACCESS_TYPE            4231\n",
       "TOA                  696452\n",
       "POA                  696461\n",
       "TOD                  808024\n",
       "POD                  875997\n",
       "APPT_MADE_DATE         4222\n",
       "APPT_START_DATE           0\n",
       "APPT_END_DATE             0\n",
       "APPT_CANCEL_DATE     951636\n",
       "Total_People           4231\n",
       "LAST_UPDATEDBY         5195\n",
       "POST                   4231\n",
       "LASTENTRYDATE          4231\n",
       "TERMINAL_SUFFIX        5195\n",
       "visitee_namelast      59255\n",
       "visitee_namefirst      6781\n",
       "MEETING_LOC            2631\n",
       "MEETING_ROOM           4232\n",
       "CALLER_NAME_LAST       4231\n",
       "CALLER_NAME_FIRST      4231\n",
       "CALLER_ROOM          970504\n",
       "DESCRIPTION          360917\n",
       "Release_Date              0\n",
       "dtype: int64"
      ]
     },
     "execution_count": 102,
     "metadata": {},
     "output_type": "execute_result"
    }
   ],
   "source": [
    "whitehouse.isnull().sum()"
   ]
  },
  {
   "cell_type": "code",
   "execution_count": 103,
   "metadata": {},
   "outputs": [],
   "source": [
    "whitehouse.dropna(axis=1, inplace=True)"
   ]
  },
  {
   "cell_type": "code",
   "execution_count": 105,
   "metadata": {},
   "outputs": [
    {
     "data": {
      "text/html": [
       "<div>\n",
       "<table border=\"1\" class=\"dataframe\">\n",
       "  <thead>\n",
       "    <tr style=\"text-align: right;\">\n",
       "      <th></th>\n",
       "      <th>APPT_START_DATE</th>\n",
       "      <th>APPT_END_DATE</th>\n",
       "      <th>Release_Date</th>\n",
       "    </tr>\n",
       "  </thead>\n",
       "  <tbody>\n",
       "    <tr>\n",
       "      <th>0</th>\n",
       "      <td>10/1/2015 3:00</td>\n",
       "      <td>10/1/2015 23:59</td>\n",
       "      <td>1/29/2016</td>\n",
       "    </tr>\n",
       "    <tr>\n",
       "      <th>1</th>\n",
       "      <td>10/1/2015 5:00</td>\n",
       "      <td>9/30/2016 23:59</td>\n",
       "      <td>1/29/2016</td>\n",
       "    </tr>\n",
       "    <tr>\n",
       "      <th>2</th>\n",
       "      <td>10/1/2015 5:00</td>\n",
       "      <td>9/30/2016 23:59</td>\n",
       "      <td>1/29/2016</td>\n",
       "    </tr>\n",
       "    <tr>\n",
       "      <th>3</th>\n",
       "      <td>10/1/2015 5:00</td>\n",
       "      <td>9/30/2016 23:59</td>\n",
       "      <td>1/29/2016</td>\n",
       "    </tr>\n",
       "    <tr>\n",
       "      <th>4</th>\n",
       "      <td>10/1/2015 5:00</td>\n",
       "      <td>9/30/2016 23:59</td>\n",
       "      <td>1/29/2016</td>\n",
       "    </tr>\n",
       "  </tbody>\n",
       "</table>\n",
       "</div>"
      ],
      "text/plain": [
       "  APPT_START_DATE    APPT_END_DATE Release_Date\n",
       "0  10/1/2015 3:00  10/1/2015 23:59    1/29/2016\n",
       "1  10/1/2015 5:00  9/30/2016 23:59    1/29/2016\n",
       "2  10/1/2015 5:00  9/30/2016 23:59    1/29/2016\n",
       "3  10/1/2015 5:00  9/30/2016 23:59    1/29/2016\n",
       "4  10/1/2015 5:00  9/30/2016 23:59    1/29/2016"
      ]
     },
     "execution_count": 105,
     "metadata": {},
     "output_type": "execute_result"
    }
   ],
   "source": [
    "whitehouse.head()"
   ]
  },
  {
   "cell_type": "code",
   "execution_count": 106,
   "metadata": {
    "collapsed": true
   },
   "outputs": [],
   "source": [
    "whitehouse['APPT_START_DATE'] = pd.to_datetime(whitehouse['APPT_START_DATE'])\n",
    "whitehouse['APPT_END_DATE'] = pd.to_datetime(whitehouse['APPT_END_DATE'])"
   ]
  },
  {
   "cell_type": "code",
   "execution_count": 107,
   "metadata": {
    "collapsed": true
   },
   "outputs": [],
   "source": [
    "whitehouse['APPT_DURATION'] = whitehouse['APPT_END_DATE'] - whitehouse['APPT_START_DATE']"
   ]
  },
  {
   "cell_type": "code",
   "execution_count": 108,
   "metadata": {},
   "outputs": [
    {
     "data": {
      "text/plain": [
       "Timedelta('1 days 03:46:03.909412')"
      ]
     },
     "execution_count": 108,
     "metadata": {},
     "output_type": "execute_result"
    }
   ],
   "source": [
    "np.mean(whitehouse['APPT_DURATION'])"
   ]
  }
 ],
 "metadata": {
  "kernelspec": {
   "display_name": "Python 3",
   "language": "python",
   "name": "python3"
  },
  "language_info": {
   "codemirror_mode": {
    "name": "ipython",
    "version": 3
   },
   "file_extension": ".py",
   "mimetype": "text/x-python",
   "name": "python",
   "nbconvert_exporter": "python",
   "pygments_lexer": "ipython3",
   "version": "3.7.5"
  }
 },
 "nbformat": 4,
 "nbformat_minor": 1
}
